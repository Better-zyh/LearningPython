{
 "cells": [
  {
   "cell_type": "code",
   "execution_count": 1,
   "id": "c4f069cf-9dfa-4be3-9e08-6d7ed0bd9cc0",
   "metadata": {},
   "outputs": [],
   "source": [
    "import numpy"
   ]
  },
  {
   "cell_type": "code",
   "execution_count": 2,
   "id": "b04205c0-6646-47dd-ba77-224ca0d72dee",
   "metadata": {},
   "outputs": [
    {
     "data": {
      "text/plain": [
       "array([[0., 0., 1., ..., 3., 0., 0.],\n",
       "       [0., 1., 2., ..., 1., 0., 1.],\n",
       "       [0., 1., 1., ..., 2., 1., 1.],\n",
       "       ...,\n",
       "       [0., 1., 1., ..., 1., 1., 1.],\n",
       "       [0., 0., 0., ..., 0., 2., 0.],\n",
       "       [0., 0., 1., ..., 1., 1., 0.]])"
      ]
     },
     "execution_count": 2,
     "metadata": {},
     "output_type": "execute_result"
    }
   ],
   "source": [
    "numpy.loadtxt(fname='data/inflammation-01.csv',delimiter=',')"
   ]
  },
  {
   "cell_type": "code",
   "execution_count": 3,
   "id": "cf11bb55-0864-4d76-9dc2-fab83b877742",
   "metadata": {},
   "outputs": [
    {
     "name": "stdout",
     "output_type": "stream",
     "text": [
      "[[0. 0. 1. ... 3. 0. 0.]\n",
      " [0. 1. 2. ... 1. 0. 1.]\n",
      " [0. 1. 1. ... 2. 1. 1.]\n",
      " ...\n",
      " [0. 1. 1. ... 1. 1. 1.]\n",
      " [0. 0. 0. ... 0. 2. 0.]\n",
      " [0. 0. 1. ... 1. 1. 0.]]\n"
     ]
    }
   ],
   "source": [
    "arthritis=numpy.loadtxt(fname='data/inflammation-01.csv',delimiter=',')\n",
    "print(arthritis)"
   ]
  },
  {
   "cell_type": "code",
   "execution_count": 4,
   "id": "8a260a42-cf27-441f-845f-37109a02270b",
   "metadata": {},
   "outputs": [
    {
     "name": "stdout",
     "output_type": "stream",
     "text": [
      "<class 'numpy.ndarray'>\n"
     ]
    }
   ],
   "source": [
    "print(type(arthritis))"
   ]
  },
  {
   "cell_type": "markdown",
   "id": "5d2e4905-3b60-4dde-836a-f01f29b2fc42",
   "metadata": {},
   "source": [
    "# attributes (adjetives)"
   ]
  },
  {
   "cell_type": "code",
   "execution_count": 5,
   "id": "bb7b95d9-132d-45e2-a40a-d871ce3acc5b",
   "metadata": {},
   "outputs": [
    {
     "name": "stdout",
     "output_type": "stream",
     "text": [
      "(60, 40)\n",
      "float64\n"
     ]
    }
   ],
   "source": [
    "print(arthritis.shape)\n",
    "print(arthritis.dtype)"
   ]
  },
  {
   "cell_type": "code",
   "execution_count": 6,
   "id": "cd399a4b-4b5e-448b-b0d0-ee0bf4e25902",
   "metadata": {},
   "outputs": [
    {
     "name": "stdout",
     "output_type": "stream",
     "text": [
      "the first item is 0.0\n"
     ]
    }
   ],
   "source": [
    "print('the first item is',arthritis[0,0])"
   ]
  },
  {
   "cell_type": "code",
   "execution_count": 7,
   "id": "7e03a40b-d89c-42f5-9873-f0222b9d706e",
   "metadata": {},
   "outputs": [
    {
     "name": "stdout",
     "output_type": "stream",
     "text": [
      "[[0. 0. 1. 3. 1. 2. 4. 7. 8. 3.]\n",
      " [0. 1. 2. 1. 2. 1. 3. 2. 2. 6.]\n",
      " [0. 1. 1. 3. 3. 2. 6. 2. 5. 9.]\n",
      " [0. 0. 2. 0. 4. 2. 2. 1. 6. 7.]]\n"
     ]
    }
   ],
   "source": [
    "print(arthritis[0:4,0:10])"
   ]
  },
  {
   "cell_type": "code",
   "execution_count": 8,
   "id": "f586c324-4aa0-409c-aa7a-383f15f029ab",
   "metadata": {},
   "outputs": [
    {
     "data": {
      "text/plain": [
       "array([[2., 3., 0., 0.],\n",
       "       [1., 1., 0., 1.],\n",
       "       [2., 2., 1., 1.]])"
      ]
     },
     "execution_count": 8,
     "metadata": {},
     "output_type": "execute_result"
    }
   ],
   "source": [
    "corner=arthritis[:3,36:]\n",
    "corner"
   ]
  },
  {
   "cell_type": "code",
   "execution_count": 9,
   "id": "6d2fef73-9bd5-48c3-b50f-7d5e10d4ff6c",
   "metadata": {},
   "outputs": [
    {
     "data": {
      "text/plain": [
       "['x', 'y', 'g']"
      ]
     },
     "execution_count": 9,
     "metadata": {},
     "output_type": "execute_result"
    }
   ],
   "source": [
    "test=['o','x','y','g','e','n']\n",
    "a=test[1:4]\n",
    "a"
   ]
  },
  {
   "cell_type": "markdown",
   "id": "d3c816b5-c781-4ce8-bab0-ad2ba5047120",
   "metadata": {},
   "source": [
    "# Methods (verbs)"
   ]
  },
  {
   "cell_type": "code",
   "execution_count": 10,
   "id": "dd735957-69a4-4284-9d65-a4236e59cd99",
   "metadata": {},
   "outputs": [
    {
     "name": "stdout",
     "output_type": "stream",
     "text": [
      "6.14875\n"
     ]
    }
   ],
   "source": [
    "print(arthritis.mean())"
   ]
  },
  {
   "cell_type": "code",
   "execution_count": 12,
   "id": "c5ae039a-3407-4d3d-8e6c-8d53019fb056",
   "metadata": {},
   "outputs": [
    {
     "name": "stdout",
     "output_type": "stream",
     "text": [
      "20.0\n",
      "0.0\n",
      "4.613833197118566\n"
     ]
    }
   ],
   "source": [
    "print(arthritis.max())\n",
    "print(arthritis.min())\n",
    "print(arthritis.std())"
   ]
  },
  {
   "cell_type": "code",
   "execution_count": 13,
   "id": "255c15fa-167f-4b9e-b0ce-3bda1f141b9f",
   "metadata": {},
   "outputs": [
    {
     "data": {
      "text/plain": [
       "2400"
      ]
     },
     "execution_count": 13,
     "metadata": {},
     "output_type": "execute_result"
    }
   ],
   "source": [
    "arthritis.size"
   ]
  },
  {
   "cell_type": "code",
   "execution_count": 17,
   "id": "8f068d2c-37ed-4338-b814-5a6b78e126c9",
   "metadata": {},
   "outputs": [
    {
     "name": "stdout",
     "output_type": "stream",
     "text": [
      "18.0\n",
      "19.0\n"
     ]
    }
   ],
   "source": [
    "patient_0=arthritis[0,:]\n",
    "print(patient_0.max())\n",
    "print(arthritis[2,:].max())"
   ]
  },
  {
   "cell_type": "code",
   "execution_count": 19,
   "id": "27a5bfe3-ef5b-4299-9c99-dbf1d9af0b53",
   "metadata": {},
   "outputs": [
    {
     "name": "stdout",
     "output_type": "stream",
     "text": [
      "[18. 18. 19. 17. 17. 18. 17. 20. 17. 18. 18. 18. 17. 16. 17. 18. 19. 19.\n",
      " 17. 19. 19. 16. 17. 15. 17. 17. 18. 17. 20. 17. 16. 19. 15. 15. 19. 17.\n",
      " 16. 17. 19. 16. 18. 19. 16. 19. 18. 16. 19. 15. 16. 18. 14. 20. 17. 15.\n",
      " 17. 16. 17. 19. 18. 18.]\n"
     ]
    }
   ],
   "source": [
    "print(arthritis.max(axis=1))"
   ]
  },
  {
   "cell_type": "code",
   "execution_count": 21,
   "id": "2a4323c5-1583-4747-b297-428f4eb8a857",
   "metadata": {},
   "outputs": [
    {
     "name": "stdout",
     "output_type": "stream",
     "text": [
      "[ 0.  1.  2.  3.  4.  5.  6.  7.  8.  9. 10. 11. 12. 13. 14. 15. 16. 17.\n",
      " 18. 19. 20. 19. 18. 17. 16. 15. 14. 13. 12. 11. 10.  9.  8.  7.  6.  5.\n",
      "  4.  3.  2.  1.]\n"
     ]
    }
   ],
   "source": [
    "print(arthritis.max(axis=0))"
   ]
  },
  {
   "cell_type": "code",
   "execution_count": 22,
   "id": "4ce3e24d-2d6c-4759-a9b6-2a02b4720b22",
   "metadata": {},
   "outputs": [
    {
     "name": "stdout",
     "output_type": "stream",
     "text": [
      "4.579294680644961\n"
     ]
    }
   ],
   "source": [
    "print(arthritis.std(axis=1).mean())"
   ]
  },
  {
   "cell_type": "code",
   "execution_count": null,
   "id": "f24aae05-11fa-4652-be8c-0723b50af430",
   "metadata": {},
   "outputs": [],
   "source": []
  }
 ],
 "metadata": {
  "kernelspec": {
   "display_name": "Python 3 (ipykernel)",
   "language": "python",
   "name": "python3"
  },
  "language_info": {
   "codemirror_mode": {
    "name": "ipython",
    "version": 3
   },
   "file_extension": ".py",
   "mimetype": "text/x-python",
   "name": "python",
   "nbconvert_exporter": "python",
   "pygments_lexer": "ipython3",
   "version": "3.9.7"
  }
 },
 "nbformat": 4,
 "nbformat_minor": 5
}
