{
 "cells": [
  {
   "cell_type": "code",
   "execution_count": 1,
   "id": "1c9b619f-52fa-4cd9-8916-f4b9a2f1fe6a",
   "metadata": {},
   "outputs": [
    {
     "data": {
      "text/plain": [
       "2"
      ]
     },
     "execution_count": 1,
     "metadata": {},
     "output_type": "execute_result"
    }
   ],
   "source": [
    "1+1"
   ]
  },
  {
   "cell_type": "markdown",
   "id": "e0a26a28-3372-49ec-a337-f11f9e6d5773",
   "metadata": {},
   "source": [
    "# Variables"
   ]
  },
  {
   "cell_type": "code",
   "execution_count": 2,
   "id": "9460269b-f78b-4510-8523-59cf58f6ebfb",
   "metadata": {},
   "outputs": [],
   "source": [
    "weight_kg = 55"
   ]
  },
  {
   "cell_type": "code",
   "execution_count": 3,
   "id": "86491fec-50f2-4f7d-8bbd-7b58e9ca6fd7",
   "metadata": {},
   "outputs": [
    {
     "name": "stdout",
     "output_type": "stream",
     "text": [
      "55\n"
     ]
    }
   ],
   "source": [
    "print(weight_kg)"
   ]
  },
  {
   "cell_type": "code",
   "execution_count": 6,
   "id": "28868d41-47ce-4300-b1b1-d4696156d9ba",
   "metadata": {},
   "outputs": [
    {
     "name": "stdout",
     "output_type": "stream",
     "text": [
      "weights in Pounds is 121.00000000000001\n"
     ]
    }
   ],
   "source": [
    "print(\"weights in Pounds is\",2.2* weight_kg)"
   ]
  },
  {
   "cell_type": "code",
   "execution_count": null,
   "id": "730af16b-d859-4eb6-961f-a90915589199",
   "metadata": {},
   "outputs": [],
   "source": []
  }
 ],
 "metadata": {
  "kernelspec": {
   "display_name": "Python 3 (ipykernel)",
   "language": "python",
   "name": "python3"
  },
  "language_info": {
   "codemirror_mode": {
    "name": "ipython",
    "version": 3
   },
   "file_extension": ".py",
   "mimetype": "text/x-python",
   "name": "python",
   "nbconvert_exporter": "python",
   "pygments_lexer": "ipython3",
   "version": "3.9.7"
  }
 },
 "nbformat": 4,
 "nbformat_minor": 5
}
